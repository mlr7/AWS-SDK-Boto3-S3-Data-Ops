{
 "cells": [
  {
   "cell_type": "code",
   "execution_count": null,
   "metadata": {},
   "outputs": [],
   "source": []
  },
  {
   "cell_type": "markdown",
   "metadata": {},
   "source": [
    "### Tutorial: AWS S3 and Boto3 with Python\n",
    "\n",
    "**AWS S3** (AWS=Amazon Web Services, S3=Simple Storage Service) is a cloud storage service that can store individual pieces of data, or \"objects\", ranging from a few bytes to several terabytes in size. Each object is stored in a bucket, and each bucket is identified by a unique, user-assigned key. S3 is a secure, robust, and highly scalable data storage option on AWS.  \n",
    "\n",
    "**Boto3** is the AWS Software Development Kit (SDK) for Python. Boto3 enables Python developers to write code that makes use of AWS services like S3, EC2, and many others with a high-level object-oriented API as well as low-level direct service access where desired. Boto3 facilitates the creation, configuration, and management of AWS services using Python code. Boto3 generally provides two ways of accessing AWS APIs: **Client** provides low-level service access. **Resoruce** provides higher-level object-oriented service access."
   ]
  },
  {
   "cell_type": "markdown",
   "metadata": {},
   "source": [
    "### Exercise 1: List S3 Bucket Names\n",
    "\n",
    "We will use Python and Boto3 to list all the bucket names in our AWS instance. The credentials have already been configured in our Python virtual environment using AWSCLI to allow Boto3 to access S3 data from our local computer. Boto3 has already been installed in the environment. "
   ]
  },
  {
   "cell_type": "code",
   "execution_count": null,
   "metadata": {},
   "outputs": [],
   "source": [
    "import boto3\n",
    "\n",
    "# Ignorning warnings to make outputs look nicer.\n",
    "# Not recommended for real development work.\n",
    "import warnings\n",
    "warnings.filterwarnings('ignore')"
   ]
  },
  {
   "cell_type": "code",
   "execution_count": null,
   "metadata": {},
   "outputs": [],
   "source": [
    "# create a low-level boto3 client for interacting with s3\n",
    "s3 = boto3.client('s3', verify=False)"
   ]
  },
  {
   "cell_type": "code",
   "execution_count": null,
   "metadata": {},
   "outputs": [],
   "source": [
    "# query aws and receieve info on the existing s3 bucket names\n",
    "response = s3.list_buckets()"
   ]
  },
  {
   "cell_type": "code",
   "execution_count": null,
   "metadata": {},
   "outputs": [],
   "source": [
    "print('AWS S3 Bucket Names:')\n",
    "for bucket in response['Buckets']:\n",
    "    print(f' {bucket[\"Name\"]}')"
   ]
  },
  {
   "cell_type": "markdown",
   "metadata": {},
   "source": [
    "A list of S3 buckets should have printed to the output. In this tutorial we will use the bucket **ng-ecsg-us-summer2023-testbucket1**"
   ]
  },
  {
   "cell_type": "markdown",
   "metadata": {},
   "source": [
    "### Push a JPG File to S3 Bucket\n",
    "\n",
    "A jpg file showing the image of a FOD (Foreign Object Debris) object, in this case a hammar, has been placed in the 'data_jpg' folder. We will push this image up to the **ng-ecsg-us-summer2023-testbucket1** S3 bucket. "
   ]
  },
  {
   "cell_type": "code",
   "execution_count": null,
   "metadata": {},
   "outputs": [],
   "source": [
    "import boto3\n",
    "\n",
    "from datetime import datetime\n",
    "import os\n",
    "\n",
    "# Ignorning warnings to make outputs look nicer.\n",
    "# Not recommended for real development work.\n",
    "import warnings\n",
    "warnings.filterwarnings('ignore')"
   ]
  },
  {
   "cell_type": "code",
   "execution_count": null,
   "metadata": {},
   "outputs": [],
   "source": [
    "# Fetch the jpg file name. If there happens to be multiple jpgs in the \n",
    "#        data_jpg directory, this code will only fetch the first name in the list\n",
    "\n",
    "file_list = os.listdir('./data')\n",
    "print(f' Original file name is: {file_list[0]}')"
   ]
  },
  {
   "cell_type": "code",
   "execution_count": null,
   "metadata": {},
   "outputs": [],
   "source": [
    "# create a low-level boto3 client for interacting with s3\n",
    "s3 = boto3.client('s3', verify=False)"
   ]
  },
  {
   "cell_type": "code",
   "execution_count": null,
   "metadata": {},
   "outputs": [],
   "source": [
    "#bucket_name = 'ng-ecsg-us-summer2023-testbucket1'\n",
    "bucket_name = 'aws_s3_test_bucket'"
   ]
  },
  {
   "cell_type": "code",
   "execution_count": null,
   "metadata": {},
   "outputs": [],
   "source": [
    "# add timestamp to file name to avoid overwritting existing data\n",
    "# note that the timestamp is in 'unix time' or 'epoch time', the nmber\n",
    "#      of seconds that have elapsed since 1-Jan-1970\n",
    "\n",
    "file_name_aws = str(int(round(datetime.now().timestamp())))+ '_'+ file_list[0]\n",
    "\n",
    "print(f' File name in AWS S3 bucket will be: {file_name_aws}')"
   ]
  },
  {
   "cell_type": "code",
   "execution_count": null,
   "metadata": {},
   "outputs": [],
   "source": [
    "# upload the file to s3 bucket\n",
    "path = './data/'\n",
    "file = file_list[0]\n",
    "s3.upload_file(path+file, bucket_name, file_name_aws)"
   ]
  },
  {
   "cell_type": "markdown",
   "metadata": {},
   "source": [
    "### List Objects in an AWS S3 Bucket"
   ]
  },
  {
   "cell_type": "code",
   "execution_count": null,
   "metadata": {},
   "outputs": [],
   "source": [
    "import boto3\n",
    "\n",
    "# Ignorning warnings to make outputs look nicer.\n",
    "# Not recommended for real development work.\n",
    "import warnings\n",
    "warnings.filterwarnings('ignore')"
   ]
  },
  {
   "cell_type": "code",
   "execution_count": null,
   "metadata": {},
   "outputs": [],
   "source": [
    "bucket_name = 'aws_s3_test_bucket'"
   ]
  },
  {
   "cell_type": "code",
   "execution_count": null,
   "metadata": {},
   "outputs": [],
   "source": [
    "# create boto3 resource, provides higher-level object-oriented service access.\n",
    "s3 = boto3.resource('s3', verify=False)"
   ]
  },
  {
   "cell_type": "code",
   "execution_count": null,
   "metadata": {},
   "outputs": [],
   "source": [
    "bucket = s3.Bucket(bucket_name)"
   ]
  },
  {
   "cell_type": "code",
   "execution_count": null,
   "metadata": {},
   "outputs": [],
   "source": [
    "for objects in bucket.objects.all():\n",
    "    print(objects.key)"
   ]
  },
  {
   "cell_type": "markdown",
   "metadata": {},
   "source": [
    "### Download a file from an AWS S3 bucket"
   ]
  },
  {
   "cell_type": "code",
   "execution_count": null,
   "metadata": {},
   "outputs": [],
   "source": [
    "import boto3\n",
    "\n",
    "from datetime import datetime\n",
    "\n",
    "# Ignorning warnings to make outputs look nicer.\n",
    "# Not recommended for real development work.\n",
    "import warnings\n",
    "warnings.filterwarnings('ignore')"
   ]
  },
  {
   "cell_type": "code",
   "execution_count": null,
   "metadata": {},
   "outputs": [],
   "source": [
    "bucket_name = 'aws_s3_example_bucket'\n",
    "key = 'pic_name.jpg' # verify that file exists in s3 bucket"
   ]
  },
  {
   "cell_type": "code",
   "execution_count": null,
   "metadata": {},
   "outputs": [],
   "source": [
    "# create a new timestamped name for the download, to avoid overwritting data\n",
    "file_name_local = str(int(round(datetime.now().timestamp())))+ '_'+ key\n",
    "\n",
    "print(f' File name in local directory will be: {file_name_local}')"
   ]
  },
  {
   "cell_type": "code",
   "execution_count": null,
   "metadata": {},
   "outputs": [],
   "source": [
    "# create boto3 client provides low-level service access.\n",
    "s3 = boto3.client('s3', verify=False)"
   ]
  },
  {
   "cell_type": "code",
   "execution_count": null,
   "metadata": {},
   "outputs": [],
   "source": [
    "s3.download_file(Bucket=bucket_name,\n",
    "                 Key = key,\n",
    "                 Filename= file_name_local\n",
    "                )\n",
    "print(file_name_local)"
   ]
  },
  {
   "cell_type": "markdown",
   "metadata": {},
   "source": [
    "A file with the name stored in the file_local_name variable should download into the location where this notebook is being executed. "
   ]
  }
 ],
 "metadata": {
  "kernelspec": {
   "display_name": "Python 3",
   "language": "python",
   "name": "python3"
  },
  "language_info": {
   "codemirror_mode": {
    "name": "ipython",
    "version": 3
   },
   "file_extension": ".py",
   "mimetype": "text/x-python",
   "name": "python",
   "nbconvert_exporter": "python",
   "pygments_lexer": "ipython3",
   "version": "3.8.5"
  }
 },
 "nbformat": 4,
 "nbformat_minor": 5
}
